{
  "nbformat": 4,
  "nbformat_minor": 0,
  "metadata": {
    "colab": {
      "name": "speechemotion_ml_algorithms.ipynb",
      "provenance": [],
      "collapsed_sections": []
    },
    "kernelspec": {
      "name": "python3",
      "display_name": "Python 3"
    },
    "accelerator": "GPU"
  },
  "cells": [
    {
      "cell_type": "code",
      "metadata": {
        "id": "uWhIg4du-1wV",
        "outputId": "390d5126-a51e-4252-d5fa-06b01f0c278a",
        "colab": {
          "base_uri": "https://localhost:8080/"
        }
      },
      "source": [
        "from google.colab import drive\n",
        "drive.mount('/content/drive')"
      ],
      "execution_count": 2,
      "outputs": [
        {
          "output_type": "stream",
          "name": "stdout",
          "text": [
            "Drive already mounted at /content/drive; to attempt to forcibly remount, call drive.mount(\"/content/drive\", force_remount=True).\n"
          ]
        }
      ]
    },
    {
      "cell_type": "code",
      "metadata": {
        "id": "2LCe-eWs_P-c"
      },
      "source": [
        "import soundfile\n",
        "import numpy as np\n",
        "import librosa\n",
        "import glob\n",
        "import os\n",
        "from sklearn.model_selection import train_test_split\n",
        "\n",
        "# all emotions on RAVDESS dataset\n",
        "int2emotion = {\n",
        "    \"01\": \"neutral\",\n",
        "    \"02\": \"calm\",\n",
        "    \"03\": \"happy\",\n",
        "    \"04\": \"sad\",\n",
        "    \"05\": \"angry\",\n",
        "    \"06\": \"fearful\",\n",
        "    \"07\": \"disgust\",\n",
        "    \"08\": \"surprised\"\n",
        "}\n",
        "\n",
        "# we allow only these emotions\n",
        "AVAILABLE_EMOTIONS = {\n",
        "    \"angry\",\n",
        "    \"sad\",\n",
        "    \"neutral\",\n",
        "    \"happy\"\n",
        "}"
      ],
      "execution_count": 3,
      "outputs": []
    },
    {
      "cell_type": "code",
      "metadata": {
        "id": "wQlrNgst_oa0"
      },
      "source": [
        "def extract_feature(file_name, **kwargs):\n",
        "    \"\"\"\n",
        "    Extract feature from audio file `file_name`\n",
        "        Features supported:\n",
        "            - MFCC (mfcc)\n",
        "            - Chroma (chroma)\n",
        "            - MEL Spectrogram Frequency (mel)\n",
        "            - Contrast (contrast)\n",
        "            - Tonnetz (tonnetz)\n",
        "        e.g:\n",
        "        `features = extract_feature(path, mel=True, mfcc=True)`\n",
        "    \"\"\"\n",
        "    mfcc = kwargs.get(\"mfcc\")\n",
        "    chroma = kwargs.get(\"chroma\")\n",
        "    mel = kwargs.get(\"mel\")\n",
        "    contrast = kwargs.get(\"contrast\")\n",
        "    tonnetz = kwargs.get(\"tonnetz\")\n",
        "    with soundfile.SoundFile(file_name) as sound_file:\n",
        "        X = sound_file.read(dtype=\"float32\")\n",
        "        sample_rate = sound_file.samplerate\n",
        "        if chroma or contrast:\n",
        "            stft = np.abs(librosa.stft(X))\n",
        "        result = np.array([])\n",
        "        if mfcc:\n",
        "            mfccs = np.mean(librosa.feature.mfcc(y=X, sr=sample_rate, n_mfcc=40).T, axis=0)\n",
        "            result = np.hstack((result, mfccs))\n",
        "        if chroma:\n",
        "            chroma = np.mean(librosa.feature.chroma_stft(S=stft, sr=sample_rate).T,axis=0)\n",
        "            result = np.hstack((result, chroma))\n",
        "        if mel:\n",
        "            mel = np.mean(librosa.feature.melspectrogram(X, sr=sample_rate).T,axis=0)\n",
        "            result = np.hstack((result, mel))\n",
        "        if contrast:\n",
        "            contrast = np.mean(librosa.feature.spectral_contrast(S=stft, sr=sample_rate).T,axis=0)\n",
        "            result = np.hstack((result, contrast))\n",
        "        if tonnetz:\n",
        "            tonnetz = np.mean(librosa.feature.tonnetz(y=librosa.effects.harmonic(X), sr=sample_rate).T,axis=0)\n",
        "            result = np.hstack((result, tonnetz))\n",
        "    return result"
      ],
      "execution_count": 4,
      "outputs": []
    },
    {
      "cell_type": "code",
      "metadata": {
        "id": "PWOhBXUk_cNU"
      },
      "source": [
        "def load_data(test_size=0.2):\n",
        "    X, y = [], []\n",
        "    try :\n",
        "      for file in glob.glob(\"/content/drive/My Drive/wav/Actor_*/*.wav\"):\n",
        "      #for file in glob.glob(\"/content/drive/My Drive/wav/Actor_*/*.wav\"):\n",
        "          # get the base name of the audio file\n",
        "          basename = os.path.basename(file)\n",
        "          print(basename)\n",
        "          # get the emotion label\n",
        "          emotion = int2emotion[basename.split(\"-\")[2]]\n",
        "          # we allow only AVAILABLE_EMOTIONS we set\n",
        "          if emotion not in AVAILABLE_EMOTIONS:\n",
        "              continue\n",
        "          # extract speech features\n",
        "          features = extract_feature(file, mfcc=True, chroma=True, mel=True)\n",
        "          # add to data\n",
        "          X.append(features)\n",
        "          y.append(emotion)\n",
        "    except :\n",
        "         pass\n",
        "    # split the data to training and testing and return it\n",
        "    return train_test_split(np.array(X), y, test_size=test_size, random_state=7)"
      ],
      "execution_count": 5,
      "outputs": []
    },
    {
      "cell_type": "code",
      "metadata": {
        "id": "okb7d-c3_z4l",
        "outputId": "e0842a71-5880-4850-a0a5-200c6c462b8d",
        "colab": {
          "base_uri": "https://localhost:8080/"
        }
      },
      "source": [
        "X_train, X_test, y_train, y_test = load_data(test_size=0.25)\n",
        "# print some details\n",
        "# number of samples in training data\n",
        "print(\"[+] Number of training samples:\", X_train.shape[0])\n",
        "# number of samples in testing data\n",
        "print(\"[+] Number of testing samples:\", X_test.shape[0])\n",
        "# number of features used\n",
        "# this is a vector of features extracted \n",
        "# using utils.extract_features() method\n",
        "print(\"[+] Number of features:\", X_train.shape[1])"
      ],
      "execution_count": 6,
      "outputs": [
        {
          "output_type": "stream",
          "name": "stdout",
          "text": [
            "03-01-07-02-01-01-22.wav\n",
            "03-01-07-01-01-02-22.wav\n",
            "03-01-07-01-02-01-22.wav\n",
            "03-01-03-02-01-01-22.wav\n",
            "03-01-03-01-02-01-22.wav\n",
            "03-01-05-01-01-01-22.wav\n",
            "03-01-02-02-02-02-22.wav\n",
            "03-01-05-01-02-02-22.wav\n",
            "03-01-02-01-01-02-22.wav\n",
            "03-01-06-01-01-02-22.wav\n",
            "03-01-05-02-02-02-22.wav\n",
            "03-01-04-01-01-02-22.wav\n",
            "03-01-03-02-02-02-22.wav\n",
            "03-01-06-02-02-01-22.wav\n",
            "03-01-04-02-02-01-22.wav\n",
            "03-01-05-02-02-01-22.wav\n",
            "03-01-06-02-02-02-22.wav\n",
            "03-01-02-01-02-01-22.wav\n",
            "03-01-02-02-01-02-22.wav\n",
            "03-01-07-01-02-02-22.wav\n",
            "03-01-06-01-02-02-22.wav\n",
            "03-01-05-02-01-02-22.wav\n",
            "03-01-04-01-01-01-22.wav\n",
            "03-01-03-01-01-01-22.wav\n",
            "03-01-02-01-01-01-22.wav\n",
            "03-01-01-01-02-02-22.wav\n",
            "03-01-06-01-02-01-22.wav\n",
            "03-01-07-02-02-01-22.wav\n",
            "03-01-06-01-01-01-22.wav\n",
            "03-01-07-01-01-01-22.wav\n",
            "03-01-06-02-01-01-22.wav\n",
            "03-01-04-02-01-01-22.wav\n",
            "03-01-06-02-01-02-22.wav\n",
            "03-01-03-01-01-02-22.wav\n",
            "03-01-01-01-01-01-22.wav\n",
            "03-01-01-01-01-02-22.wav\n",
            "03-01-05-02-01-01-22.wav\n",
            "03-01-04-02-02-02-22.wav\n",
            "03-01-03-02-01-02-22.wav\n",
            "03-01-03-02-02-01-22.wav\n",
            "03-01-04-01-02-01-22.wav\n",
            "03-01-05-01-02-01-22.wav\n",
            "03-01-02-02-01-01-22.wav\n",
            "03-01-04-01-02-02-22.wav\n",
            "03-01-01-01-02-01-22.wav\n",
            "03-01-02-02-02-01-22.wav\n",
            "03-01-07-02-01-02-22.wav\n",
            "03-01-05-01-01-02-22.wav\n",
            "03-01-03-01-02-02-22.wav\n",
            "03-01-04-02-01-02-22.wav\n",
            "03-01-02-01-02-02-22.wav\n",
            "03-01-08-02-01-01-22.wav\n",
            "03-01-08-01-01-01-22.wav\n",
            "03-01-07-02-02-02-22.wav\n",
            "03-01-08-01-02-02-22.wav\n",
            "03-01-08-01-01-02-22.wav\n",
            "03-01-08-01-02-01-22.wav\n",
            "03-01-08-02-01-02-22.wav\n",
            "03-01-08-02-02-01-22.wav\n",
            "03-01-08-02-02-02-22.wav\n",
            "03-01-05-02-01-01-23.wav\n",
            "03-01-03-01-01-01-23.wav\n",
            "03-01-07-01-02-02-23.wav\n",
            "03-01-06-01-01-01-23.wav\n",
            "03-01-03-02-01-02-23.wav\n",
            "03-01-06-02-01-02-23.wav\n",
            "03-01-03-02-02-02-23.wav\n",
            "03-01-04-02-01-02-23.wav\n",
            "03-01-01-01-02-02-23.wav\n",
            "03-01-04-01-02-01-23.wav\n",
            "03-01-06-01-02-01-23.wav\n",
            "03-01-07-01-01-01-23.wav\n",
            "03-01-05-01-02-01-23.wav\n",
            "03-01-03-01-01-02-23.wav\n",
            "03-01-05-01-02-02-23.wav\n",
            "03-01-04-02-02-02-23.wav\n",
            "03-01-05-02-01-02-23.wav\n",
            "03-01-06-01-02-02-23.wav\n",
            "03-01-05-01-01-01-23.wav\n",
            "03-01-01-01-02-01-23.wav\n",
            "03-01-02-02-01-01-23.wav\n",
            "03-01-07-02-01-01-23.wav\n",
            "03-01-06-02-02-01-23.wav\n",
            "03-01-04-01-01-02-23.wav\n",
            "03-01-02-01-02-01-23.wav\n",
            "03-01-06-02-01-01-23.wav\n",
            "03-01-06-02-02-02-23.wav\n",
            "03-01-05-02-02-02-23.wav\n",
            "03-01-03-01-02-01-23.wav\n",
            "03-01-03-02-01-01-23.wav\n",
            "03-01-03-01-02-02-23.wav\n",
            "03-01-05-02-02-01-23.wav\n",
            "03-01-07-02-01-02-23.wav\n",
            "03-01-06-01-01-02-23.wav\n",
            "03-01-07-02-02-01-23.wav\n",
            "03-01-02-02-02-02-23.wav\n",
            "03-01-07-01-02-01-23.wav\n",
            "03-01-01-01-01-02-23.wav\n",
            "03-01-04-02-01-01-23.wav\n",
            "03-01-02-02-02-01-23.wav\n",
            "03-01-01-01-01-01-23.wav\n",
            "03-01-05-01-01-02-23.wav\n",
            "03-01-03-02-02-01-23.wav\n",
            "03-01-04-01-02-02-23.wav\n",
            "03-01-04-01-01-01-23.wav\n",
            "03-01-02-01-02-02-23.wav\n",
            "03-01-02-02-01-02-23.wav\n",
            "03-01-02-01-01-01-23.wav\n",
            "03-01-02-01-01-02-23.wav\n",
            "03-01-04-02-02-01-23.wav\n",
            "03-01-07-01-01-02-23.wav\n",
            "03-01-08-01-01-02-23.wav\n",
            "03-01-08-02-01-02-23.wav\n",
            "03-01-08-01-02-01-23.wav\n",
            "03-01-08-02-01-01-23.wav\n",
            "03-01-07-02-02-02-23.wav\n",
            "03-01-08-02-02-02-23.wav\n",
            "03-01-08-02-02-01-23.wav\n",
            "03-01-08-01-02-02-23.wav\n",
            "03-01-08-01-01-01-23.wav\n",
            "03-01-02-01-02-02-20.wav\n",
            "03-01-01-01-02-02-20.wav\n",
            "03-01-02-01-02-01-20.wav\n",
            "03-01-02-02-01-01-20.wav\n",
            "03-01-02-01-01-01-20.wav\n",
            "03-01-01-01-02-01-20.wav\n",
            "03-01-01-01-01-02-20.wav\n",
            "03-01-03-01-01-01-20.wav\n",
            "03-01-02-01-01-02-20.wav\n",
            "03-01-02-02-01-02-20.wav\n",
            "03-01-02-02-02-02-20.wav\n",
            "03-01-01-01-01-01-20.wav\n",
            "03-01-02-02-02-01-20.wav\n",
            "03-01-08-02-02-01-20.wav\n",
            "03-01-03-02-02-02-20.wav\n",
            "03-01-04-01-01-01-20.wav\n",
            "03-01-05-02-01-02-20.wav\n",
            "03-01-06-02-02-02-20.wav\n",
            "03-01-06-01-02-01-20.wav\n",
            "03-01-05-02-02-01-20.wav\n",
            "03-01-03-01-02-02-20.wav\n",
            "03-01-08-01-01-02-20.wav\n",
            "03-01-07-01-02-02-20.wav\n",
            "03-01-07-02-01-01-20.wav\n",
            "03-01-05-01-01-01-20.wav\n",
            "03-01-04-01-02-01-20.wav\n",
            "03-01-03-02-01-02-20.wav\n",
            "03-01-08-01-02-02-20.wav\n",
            "03-01-06-02-01-01-20.wav\n",
            "03-01-05-01-02-02-20.wav\n",
            "03-01-04-02-02-01-20.wav\n",
            "03-01-05-01-01-02-20.wav\n",
            "03-01-03-01-01-02-20.wav\n",
            "03-01-08-02-02-02-20.wav\n",
            "03-01-06-01-01-01-20.wav\n",
            "03-01-07-02-02-02-20.wav\n",
            "03-01-08-02-01-01-20.wav\n",
            "03-01-07-01-01-01-20.wav\n",
            "03-01-07-02-02-01-20.wav\n",
            "03-01-08-02-01-02-20.wav\n",
            "03-01-07-01-02-01-20.wav\n",
            "03-01-04-01-02-02-20.wav\n",
            "03-01-05-02-02-02-20.wav\n",
            "03-01-05-01-02-01-20.wav\n",
            "03-01-03-01-02-01-20.wav\n",
            "[+] Number of training samples: 57\n",
            "[+] Number of testing samples: 19\n",
            "[+] Number of features: 180\n"
          ]
        }
      ]
    },
    {
      "cell_type": "markdown",
      "metadata": {
        "id": "j-2WVGMZDPGu"
      },
      "source": [
        "**DECISION TREE**"
      ]
    },
    {
      "cell_type": "code",
      "metadata": {
        "id": "TJSh1g49ALTV",
        "outputId": "95a7d147-cd19-451c-faa0-f02ac052515c",
        "colab": {
          "base_uri": "https://localhost:8080/"
        }
      },
      "source": [
        "from sklearn.tree import DecisionTreeClassifier \n",
        "from sklearn.metrics import accuracy_score\n",
        "from sklearn.metrics import classification_report\n",
        "from sklearn.metrics import confusion_matrix\n",
        "\n",
        "\n",
        "dtree_model = DecisionTreeClassifier(max_depth = 2).fit(X_train, y_train) \n",
        "dtree_predictions = dtree_model.predict(X_test) \n",
        "\n",
        "print(accuracy_score(y_true=y_test,y_pred=dtree_predictions))\n",
        "print(classification_report(y_test,dtree_predictions)) \n",
        "# creating a confusion matrix \n",
        "print(confusion_matrix(y_test, dtree_predictions) )"
      ],
      "execution_count": 7,
      "outputs": [
        {
          "output_type": "stream",
          "name": "stdout",
          "text": [
            "0.5263157894736842\n",
            "              precision    recall  f1-score   support\n",
            "\n",
            "       angry       0.33      0.20      0.25         5\n",
            "       happy       0.38      0.60      0.46         5\n",
            "     neutral       1.00      0.33      0.50         3\n",
            "         sad       0.71      0.83      0.77         6\n",
            "\n",
            "    accuracy                           0.53        19\n",
            "   macro avg       0.61      0.49      0.50        19\n",
            "weighted avg       0.57      0.53      0.51        19\n",
            "\n",
            "[[1 4 0 0]\n",
            " [2 3 0 0]\n",
            " [0 0 1 2]\n",
            " [0 1 0 5]]\n"
          ]
        }
      ]
    },
    {
      "cell_type": "code",
      "metadata": {
        "id": "jo_-cYFVDMqB",
        "outputId": "4082e6c0-cddd-4bed-ceab-62b595172e52",
        "colab": {
          "base_uri": "https://localhost:8080/"
        }
      },
      "source": [
        "from sklearn.tree import DecisionTreeClassifier \n",
        "from sklearn.metrics import accuracy_score\n",
        "from sklearn.metrics import classification_report\n",
        "from sklearn.metrics import confusion_matrix\n",
        "\n",
        "\n",
        "dtree_model = DecisionTreeClassifier(max_depth = 6).fit(X_train, y_train) \n",
        "dtree_predictions = dtree_model.predict(X_test) \n",
        "\n",
        "print(accuracy_score(y_true=y_test,y_pred=dtree_predictions))\n",
        "print(classification_report(y_test,dtree_predictions)) \n",
        "# creating a confusion matrix \n",
        "print(confusion_matrix(y_test, dtree_predictions) )"
      ],
      "execution_count": 8,
      "outputs": [
        {
          "output_type": "stream",
          "name": "stdout",
          "text": [
            "0.5789473684210527\n",
            "              precision    recall  f1-score   support\n",
            "\n",
            "       angry       0.40      0.40      0.40         5\n",
            "       happy       0.43      0.60      0.50         5\n",
            "     neutral       0.75      1.00      0.86         3\n",
            "         sad       1.00      0.50      0.67         6\n",
            "\n",
            "    accuracy                           0.58        19\n",
            "   macro avg       0.64      0.62      0.61        19\n",
            "weighted avg       0.65      0.58      0.58        19\n",
            "\n",
            "[[2 3 0 0]\n",
            " [2 3 0 0]\n",
            " [0 0 3 0]\n",
            " [1 1 1 3]]\n"
          ]
        }
      ]
    },
    {
      "cell_type": "markdown",
      "metadata": {
        "id": "Y2domdsBGPWd"
      },
      "source": [
        "DT"
      ]
    },
    {
      "cell_type": "code",
      "metadata": {
        "id": "rr-ksNHtEHfe",
        "outputId": "c23f2074-a398-49ca-d5a2-e857153c8fe3",
        "colab": {
          "base_uri": "https://localhost:8080/"
        }
      },
      "source": [
        "from sklearn.tree import DecisionTreeClassifier \n",
        "from sklearn.metrics import accuracy_score\n",
        "from sklearn.metrics import classification_report\n",
        "from sklearn.metrics import confusion_matrix\n",
        "\n",
        "\n",
        "dtree_model = DecisionTreeClassifier(max_depth = 9,random_state=0).fit(X_train, y_train) \n",
        "dtree_predictions = dtree_model.predict(X_test) \n",
        "\n",
        "print(accuracy_score(y_true=y_test,y_pred=dtree_predictions))\n",
        "print(classification_report(y_test,dtree_predictions)) \n",
        "# creating a confusion matrix \n",
        "print(confusion_matrix(y_test, dtree_predictions) )"
      ],
      "execution_count": 9,
      "outputs": [
        {
          "output_type": "stream",
          "name": "stdout",
          "text": [
            "0.5263157894736842\n",
            "              precision    recall  f1-score   support\n",
            "\n",
            "       angry       0.40      0.40      0.40         5\n",
            "       happy       0.43      0.60      0.50         5\n",
            "     neutral       0.60      1.00      0.75         3\n",
            "         sad       1.00      0.33      0.50         6\n",
            "\n",
            "    accuracy                           0.53        19\n",
            "   macro avg       0.61      0.58      0.54        19\n",
            "weighted avg       0.63      0.53      0.51        19\n",
            "\n",
            "[[2 3 0 0]\n",
            " [2 3 0 0]\n",
            " [0 0 3 0]\n",
            " [1 1 2 2]]\n"
          ]
        }
      ]
    },
    {
      "cell_type": "markdown",
      "metadata": {
        "id": "64KjFNzqDqd-"
      },
      "source": [
        "**SUPPORT VECTOR MACHINE**"
      ]
    },
    {
      "cell_type": "code",
      "metadata": {
        "id": "81nRiRWwDxo2",
        "outputId": "a043a371-2077-468f-9763-647d21989525",
        "colab": {
          "base_uri": "https://localhost:8080/"
        }
      },
      "source": [
        "from sklearn.svm import SVC \n",
        "svm_model_linear = SVC(kernel = 'linear', C = 1).fit(X_train, y_train) \n",
        "svm_predictions = svm_model_linear.predict(X_test) \n",
        "\n",
        "\n",
        "print(accuracy_score(y_true=y_test,y_pred=svm_predictions))\n",
        "print(classification_report(y_test,svm_predictions)) \n",
        "# creating a confusion matrix \n",
        "print(confusion_matrix(y_test, svm_predictions) )"
      ],
      "execution_count": 10,
      "outputs": [
        {
          "output_type": "stream",
          "name": "stdout",
          "text": [
            "0.5263157894736842\n",
            "              precision    recall  f1-score   support\n",
            "\n",
            "       angry       0.50      0.80      0.62         5\n",
            "       happy       0.50      0.60      0.55         5\n",
            "     neutral       0.67      0.67      0.67         3\n",
            "         sad       0.50      0.17      0.25         6\n",
            "\n",
            "    accuracy                           0.53        19\n",
            "   macro avg       0.54      0.56      0.52        19\n",
            "weighted avg       0.53      0.53      0.49        19\n",
            "\n",
            "[[4 1 0 0]\n",
            " [2 3 0 0]\n",
            " [0 0 2 1]\n",
            " [2 2 1 1]]\n"
          ]
        }
      ]
    },
    {
      "cell_type": "markdown",
      "metadata": {
        "id": "0kfaciZaHcp2"
      },
      "source": [
        "**RANDOM FOREST**"
      ]
    },
    {
      "cell_type": "code",
      "metadata": {
        "id": "VjB-aXmmHAN3",
        "outputId": "1ed077c1-0e9c-4dcd-ad56-18d59370755b",
        "colab": {
          "base_uri": "https://localhost:8080/"
        }
      },
      "source": [
        "from sklearn.ensemble import RandomForestClassifier\n",
        "  \n",
        " # create regressor object \n",
        "classifier = RandomForestClassifier(n_estimators = 100, random_state = 0) \n",
        "  \n",
        "# fit the regressor with x and y data \n",
        "classifier.fit(X_train, y_train)   \n",
        "\n",
        "c_p = classifier.predict(X_test) \n",
        "\n",
        "\n",
        "print(accuracy_score(y_true=y_test,y_pred=c_p))\n",
        "print(classification_report(y_test,c_p)) \n",
        "# creating a confusion matrix \n",
        "print(confusion_matrix(y_test,c_p) )"
      ],
      "execution_count": 11,
      "outputs": [
        {
          "output_type": "stream",
          "name": "stdout",
          "text": [
            "0.5263157894736842\n",
            "              precision    recall  f1-score   support\n",
            "\n",
            "       angry       0.60      0.60      0.60         5\n",
            "       happy       0.43      0.60      0.50         5\n",
            "     neutral       0.50      0.33      0.40         3\n",
            "         sad       0.60      0.50      0.55         6\n",
            "\n",
            "    accuracy                           0.53        19\n",
            "   macro avg       0.53      0.51      0.51        19\n",
            "weighted avg       0.54      0.53      0.52        19\n",
            "\n",
            "[[3 2 0 0]\n",
            " [2 3 0 0]\n",
            " [0 0 1 2]\n",
            " [0 2 1 3]]\n"
          ]
        }
      ]
    },
    {
      "cell_type": "code",
      "source": [
        ""
      ],
      "metadata": {
        "id": "kpVjFozIkqm4"
      },
      "execution_count": null,
      "outputs": []
    }
  ]
}