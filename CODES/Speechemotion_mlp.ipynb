{
  "nbformat": 4,
  "nbformat_minor": 0,
  "metadata": {
    "colab": {
      "name": "Speechemotion_mlp.ipynb",
      "provenance": [],
      "collapsed_sections": []
    },
    "kernelspec": {
      "name": "python3",
      "display_name": "Python 3"
    }
  },
  "cells": [
    {
      "cell_type": "markdown",
      "metadata": {
        "id": "Pa5wKx0sWpkY"
      },
      "source": [
        "**SPEECH EMOTION DETECTION USING MLP**\n",
        "\n",
        "> Indented block\n",
        "\n"
      ]
    },
    {
      "cell_type": "code",
      "metadata": {
        "id": "bA0hIItWTBJA",
        "outputId": "2b5423f6-18a1-474c-ab34-9453113eb3a0",
        "colab": {
          "base_uri": "https://localhost:8080/"
        }
      },
      "source": [
        "from google.colab import drive\n",
        "drive.mount('/content/drive')"
      ],
      "execution_count": 1,
      "outputs": [
        {
          "output_type": "stream",
          "name": "stdout",
          "text": [
            "Mounted at /content/drive\n"
          ]
        }
      ]
    },
    {
      "cell_type": "code",
      "metadata": {
        "id": "fCsxrFLKT4xf"
      },
      "source": [
        "import soundfile\n",
        "import numpy as np\n",
        "import librosa\n",
        "import glob\n",
        "import os\n",
        "from sklearn.model_selection import train_test_split\n",
        "\n",
        "# all emotions on RAVDESS dataset\n",
        "int2emotion = {\n",
        "    \"01\": \"neutral\",\n",
        "    \"02\": \"calm\",\n",
        "    \"03\": \"happy\",\n",
        "    \"04\": \"sad\",\n",
        "    \"05\": \"angry\",\n",
        "    \"06\": \"fearful\",\n",
        "    \"07\": \"disgust\",\n",
        "    \"08\": \"surprised\"\n",
        "}\n",
        "\n",
        "# we allow only these emotions\n",
        "AVAILABLE_EMOTIONS = {\n",
        "    \"angry\",\n",
        "    \"sad\",\n",
        "    \"neutral\",\n",
        "    \"happy\"\n",
        "}\n"
      ],
      "execution_count": 2,
      "outputs": []
    },
    {
      "cell_type": "code",
      "metadata": {
        "id": "KWJ9phRhUDrM"
      },
      "source": [
        "def extract_feature(file_name, **kwargs):\n",
        "    \"\"\"\n",
        "    Extract feature from audio file `file_name`\n",
        "        Features supported:\n",
        "            - MFCC (mfcc)\n",
        "            - Chroma (chroma)\n",
        "            - MEL Spectrogram Frequency (mel)\n",
        "            - Contrast (contrast)\n",
        "            - Tonnetz (tonnetz)\n",
        "        e.g:\n",
        "        `features = extract_feature(path, mel=True, mfcc=True)`\n",
        "    \"\"\"\n",
        "    mfcc = kwargs.get(\"mfcc\")\n",
        "    chroma = kwargs.get(\"chroma\")\n",
        "    mel = kwargs.get(\"mel\")\n",
        "    contrast = kwargs.get(\"contrast\")\n",
        "    tonnetz = kwargs.get(\"tonnetz\")\n",
        "    with soundfile.SoundFile(file_name) as sound_file:\n",
        "        X = sound_file.read(dtype=\"float32\")\n",
        "        sample_rate = sound_file.samplerate\n",
        "        if chroma or contrast:\n",
        "            stft = np.abs(librosa.stft(X))\n",
        "        result = np.array([])\n",
        "        if mfcc:\n",
        "            mfccs = np.mean(librosa.feature.mfcc(y=X, sr=sample_rate, n_mfcc=40).T, axis=0)\n",
        "            result = np.hstack((result, mfccs))\n",
        "        if chroma:\n",
        "            chroma = np.mean(librosa.feature.chroma_stft(S=stft, sr=sample_rate).T,axis=0)\n",
        "            result = np.hstack((result, chroma))\n",
        "        if mel:\n",
        "            mel = np.mean(librosa.feature.melspectrogram(X, sr=sample_rate).T,axis=0)\n",
        "            result = np.hstack((result, mel))\n",
        "        if contrast:\n",
        "            contrast = np.mean(librosa.feature.spectral_contrast(S=stft, sr=sample_rate).T,axis=0)\n",
        "            result = np.hstack((result, contrast))\n",
        "        if tonnetz:\n",
        "            tonnetz = np.mean(librosa.feature.tonnetz(y=librosa.effects.harmonic(X), sr=sample_rate).T,axis=0)\n",
        "            result = np.hstack((result, tonnetz))\n",
        "    return result"
      ],
      "execution_count": 3,
      "outputs": []
    },
    {
      "cell_type": "code",
      "metadata": {
        "id": "oQIiWpQoUJli"
      },
      "source": [
        "def load_data(test_size=0.2):\n",
        "    X, y = [], []\n",
        "    try :\n",
        "      for file in glob.glob(\"/content/drive/My Drive/wav/Actor_*/*.wav\"):\n",
        "          # get the base name of the audio file\n",
        "          basename = os.path.basename(file)\n",
        "          print(basename)\n",
        "          # get the emotion label\n",
        "          emotion = int2emotion[basename.split(\"-\")[2]]\n",
        "          # we allow only AVAILABLE_EMOTIONS we set\n",
        "          if emotion not in AVAILABLE_EMOTIONS:\n",
        "              continue\n",
        "          # extract speech features\n",
        "          features = extract_feature(file, mfcc=True, chroma=True, mel=True)\n",
        "          # add to data\n",
        "          X.append(features)\n",
        "          y.append(emotion)\n",
        "    except :\n",
        "         pass\n",
        "    # split the data to training and testing and return it\n",
        "    return train_test_split(np.array(X), y, test_size=test_size, random_state=7)"
      ],
      "execution_count": 4,
      "outputs": []
    },
    {
      "cell_type": "code",
      "metadata": {
        "id": "fk7H7QV2UYSS"
      },
      "source": [
        "from sklearn.neural_network import MLPClassifier\n",
        "\n",
        "from sklearn.metrics import accuracy_score\n",
        "\n",
        "import os\n",
        "import pickle"
      ],
      "execution_count": 5,
      "outputs": []
    },
    {
      "cell_type": "code",
      "metadata": {
        "id": "5gkY1WH7UhIW",
        "outputId": "72f20b75-7d2c-464c-f0d2-a6a860b7fcd6",
        "colab": {
          "base_uri": "https://localhost:8080/"
        }
      },
      "source": [
        "X_train, X_test, y_train, y_test = load_data(test_size=0.25)\n",
        "# print some details\n",
        "# number of samples in training data\n",
        "print(\"[+] Number of training samples:\", X_train.shape[0])\n",
        "# number of samples in testing data\n",
        "print(\"[+] Number of testing samples:\", X_test.shape[0])\n",
        "# number of features used\n",
        "# this is a vector of features extracted \n",
        "# using utils.extract_features() method\n",
        "print(\"[+] Number of features:\", X_train.shape[1])\n",
        "# best model, determined by a grid search\n",
        "model_params = {\n",
        "    'alpha': 0.01,\n",
        "    'batch_size': 256,\n",
        "    'epsilon': 1e-08, \n",
        "    'hidden_layer_sizes': (300,), \n",
        "    'learning_rate': 'adaptive', \n",
        "    'max_iter': 500, \n",
        "}\n",
        "# initialize Multi Layer Perceptron classifier\n",
        "# with best parameters ( so far )\n",
        "model = MLPClassifier(**model_params)\n",
        "\n",
        "# train the model\n",
        "print(\"[*] Training the model...\")\n",
        "model.fit(X_train, y_train)\n",
        "\n",
        "# predict 25% of data to measure how good we are\n",
        "y_pred = model.predict(X_test)\n",
        "\n",
        "# calculate the accuracy\n",
        "accuracy = accuracy_score(y_true=y_test, y_pred=y_pred)\n",
        "\n",
        "print(\"Accuracy: {:.2f}%\".format(accuracy*100))\n",
        "\n",
        "# now we save the model\n",
        "# make result directory if doesn't exist yet\n",
        "if not os.path.isdir(\"result\"):\n",
        "    os.mkdir(\"result\")\n",
        "\n",
        "pickle.dump(model, open(\"result/mlp_classifier.model\", \"wb\"))"
      ],
      "execution_count": 6,
      "outputs": [
        {
          "output_type": "stream",
          "name": "stdout",
          "text": [
            "03-01-07-02-01-01-22.wav\n",
            "03-01-07-01-01-02-22.wav\n",
            "03-01-07-01-02-01-22.wav\n",
            "03-01-03-02-01-01-22.wav\n",
            "03-01-03-01-02-01-22.wav\n",
            "03-01-05-01-01-01-22.wav\n",
            "03-01-02-02-02-02-22.wav\n",
            "03-01-05-01-02-02-22.wav\n",
            "03-01-02-01-01-02-22.wav\n",
            "03-01-06-01-01-02-22.wav\n",
            "03-01-05-02-02-02-22.wav\n",
            "03-01-04-01-01-02-22.wav\n",
            "03-01-03-02-02-02-22.wav\n",
            "03-01-06-02-02-01-22.wav\n",
            "03-01-04-02-02-01-22.wav\n",
            "03-01-05-02-02-01-22.wav\n",
            "03-01-06-02-02-02-22.wav\n",
            "03-01-02-01-02-01-22.wav\n",
            "03-01-02-02-01-02-22.wav\n",
            "03-01-07-01-02-02-22.wav\n",
            "03-01-06-01-02-02-22.wav\n",
            "03-01-05-02-01-02-22.wav\n",
            "03-01-04-01-01-01-22.wav\n",
            "03-01-03-01-01-01-22.wav\n",
            "03-01-02-01-01-01-22.wav\n",
            "03-01-01-01-02-02-22.wav\n",
            "03-01-06-01-02-01-22.wav\n",
            "03-01-07-02-02-01-22.wav\n",
            "03-01-06-01-01-01-22.wav\n",
            "03-01-07-01-01-01-22.wav\n",
            "03-01-06-02-01-01-22.wav\n",
            "03-01-04-02-01-01-22.wav\n",
            "03-01-06-02-01-02-22.wav\n",
            "03-01-03-01-01-02-22.wav\n",
            "03-01-01-01-01-01-22.wav\n",
            "03-01-01-01-01-02-22.wav\n",
            "03-01-05-02-01-01-22.wav\n",
            "03-01-04-02-02-02-22.wav\n",
            "03-01-03-02-01-02-22.wav\n",
            "03-01-03-02-02-01-22.wav\n",
            "03-01-04-01-02-01-22.wav\n",
            "03-01-05-01-02-01-22.wav\n",
            "03-01-02-02-01-01-22.wav\n",
            "03-01-04-01-02-02-22.wav\n",
            "03-01-01-01-02-01-22.wav\n",
            "03-01-02-02-02-01-22.wav\n",
            "03-01-07-02-01-02-22.wav\n",
            "03-01-05-01-01-02-22.wav\n",
            "03-01-03-01-02-02-22.wav\n",
            "03-01-04-02-01-02-22.wav\n",
            "03-01-02-01-02-02-22.wav\n",
            "03-01-08-02-01-01-22.wav\n",
            "03-01-08-01-01-01-22.wav\n",
            "03-01-07-02-02-02-22.wav\n",
            "03-01-08-01-02-02-22.wav\n",
            "03-01-08-01-01-02-22.wav\n",
            "03-01-08-01-02-01-22.wav\n",
            "03-01-08-02-01-02-22.wav\n",
            "03-01-08-02-02-01-22.wav\n",
            "03-01-08-02-02-02-22.wav\n",
            "03-01-05-02-01-01-23.wav\n",
            "03-01-03-01-01-01-23.wav\n",
            "03-01-07-01-02-02-23.wav\n",
            "03-01-06-01-01-01-23.wav\n",
            "03-01-03-02-01-02-23.wav\n",
            "03-01-06-02-01-02-23.wav\n",
            "03-01-03-02-02-02-23.wav\n",
            "03-01-04-02-01-02-23.wav\n",
            "03-01-01-01-02-02-23.wav\n",
            "03-01-04-01-02-01-23.wav\n",
            "03-01-06-01-02-01-23.wav\n",
            "03-01-07-01-01-01-23.wav\n",
            "03-01-05-01-02-01-23.wav\n",
            "03-01-03-01-01-02-23.wav\n",
            "03-01-05-01-02-02-23.wav\n",
            "03-01-04-02-02-02-23.wav\n",
            "03-01-05-02-01-02-23.wav\n",
            "03-01-06-01-02-02-23.wav\n",
            "03-01-05-01-01-01-23.wav\n",
            "03-01-01-01-02-01-23.wav\n",
            "03-01-02-02-01-01-23.wav\n",
            "03-01-07-02-01-01-23.wav\n",
            "03-01-06-02-02-01-23.wav\n",
            "03-01-04-01-01-02-23.wav\n",
            "03-01-02-01-02-01-23.wav\n",
            "03-01-06-02-01-01-23.wav\n",
            "03-01-06-02-02-02-23.wav\n",
            "03-01-05-02-02-02-23.wav\n",
            "03-01-03-01-02-01-23.wav\n",
            "03-01-03-02-01-01-23.wav\n",
            "03-01-03-01-02-02-23.wav\n",
            "03-01-05-02-02-01-23.wav\n",
            "03-01-07-02-01-02-23.wav\n",
            "03-01-06-01-01-02-23.wav\n",
            "03-01-07-02-02-01-23.wav\n",
            "03-01-02-02-02-02-23.wav\n",
            "03-01-07-01-02-01-23.wav\n",
            "03-01-01-01-01-02-23.wav\n",
            "03-01-04-02-01-01-23.wav\n",
            "03-01-02-02-02-01-23.wav\n",
            "03-01-01-01-01-01-23.wav\n",
            "03-01-05-01-01-02-23.wav\n",
            "03-01-03-02-02-01-23.wav\n",
            "03-01-04-01-02-02-23.wav\n",
            "03-01-04-01-01-01-23.wav\n",
            "03-01-02-01-02-02-23.wav\n",
            "03-01-02-02-01-02-23.wav\n",
            "03-01-02-01-01-01-23.wav\n",
            "03-01-02-01-01-02-23.wav\n",
            "03-01-04-02-02-01-23.wav\n",
            "03-01-07-01-01-02-23.wav\n",
            "03-01-08-01-01-02-23.wav\n",
            "03-01-08-02-01-02-23.wav\n",
            "03-01-08-01-02-01-23.wav\n",
            "03-01-08-02-01-01-23.wav\n",
            "03-01-07-02-02-02-23.wav\n",
            "03-01-08-02-02-02-23.wav\n",
            "03-01-08-02-02-01-23.wav\n",
            "03-01-08-01-02-02-23.wav\n",
            "03-01-08-01-01-01-23.wav\n",
            "03-01-02-01-02-02-20.wav\n",
            "03-01-01-01-02-02-20.wav\n",
            "03-01-02-01-02-01-20.wav\n",
            "03-01-02-02-01-01-20.wav\n",
            "03-01-02-01-01-01-20.wav\n",
            "03-01-01-01-02-01-20.wav\n",
            "03-01-01-01-01-02-20.wav\n",
            "03-01-03-01-01-01-20.wav\n",
            "03-01-02-01-01-02-20.wav\n",
            "03-01-02-02-01-02-20.wav\n",
            "03-01-02-02-02-02-20.wav\n",
            "03-01-01-01-01-01-20.wav\n",
            "03-01-02-02-02-01-20.wav\n",
            "03-01-08-02-02-01-20.wav\n",
            "03-01-03-02-02-02-20.wav\n",
            "03-01-04-01-01-01-20.wav\n",
            "03-01-05-02-01-02-20.wav\n",
            "03-01-06-02-02-02-20.wav\n",
            "03-01-06-01-02-01-20.wav\n",
            "03-01-05-02-02-01-20.wav\n",
            "03-01-03-01-02-02-20.wav\n",
            "03-01-08-01-01-02-20.wav\n",
            "03-01-07-01-02-02-20.wav\n",
            "03-01-07-02-01-01-20.wav\n",
            "03-01-05-01-01-01-20.wav\n",
            "03-01-04-01-02-01-20.wav\n",
            "03-01-03-02-01-02-20.wav\n",
            "03-01-08-01-02-02-20.wav\n",
            "03-01-06-02-01-01-20.wav\n",
            "03-01-05-01-02-02-20.wav\n",
            "03-01-04-02-02-01-20.wav\n",
            "03-01-05-01-01-02-20.wav\n",
            "03-01-03-01-01-02-20.wav\n",
            "03-01-08-02-02-02-20.wav\n",
            "03-01-06-01-01-01-20.wav\n",
            "03-01-07-02-02-02-20.wav\n",
            "03-01-08-02-01-01-20.wav\n",
            "03-01-07-01-01-01-20.wav\n",
            "03-01-07-02-02-01-20.wav\n",
            "03-01-08-02-01-02-20.wav\n",
            "03-01-07-01-02-01-20.wav\n",
            "03-01-04-01-02-02-20.wav\n",
            "03-01-05-02-02-02-20.wav\n",
            "03-01-05-01-02-01-20.wav\n",
            "03-01-03-01-02-01-20.wav\n",
            "[+] Number of training samples: 57\n",
            "[+] Number of testing samples: 19\n",
            "[+] Number of features: 180\n",
            "[*] Training the model...\n"
          ]
        },
        {
          "output_type": "stream",
          "name": "stderr",
          "text": [
            "/usr/local/lib/python3.7/dist-packages/sklearn/neural_network/_multilayer_perceptron.py:612: UserWarning: Got `batch_size` less than 1 or larger than sample size. It is going to be clipped\n",
            "  \"Got `batch_size` less than 1 or larger than \"\n"
          ]
        },
        {
          "output_type": "stream",
          "name": "stdout",
          "text": [
            "Accuracy: 63.16%\n"
          ]
        }
      ]
    },
    {
      "cell_type": "code",
      "metadata": {
        "id": "dPiCGtcBvp8x",
        "outputId": "5d68e32b-4382-486b-a20d-c28e0e2caee1",
        "colab": {
          "base_uri": "https://localhost:8080/"
        }
      },
      "source": [
        "model = MLPClassifier(**model_params)\n",
        "\n",
        "# train the model\n",
        "print(\"[*] Training the model...\")\n",
        "model.fit(X_train, y_train)\n",
        "\n",
        "# predict 25% of data to measure how good we are\n",
        "y_pred = model.predict(X_test)\n",
        "\n",
        "# calculate the accuracy\n",
        "accuracy = accuracy_score(y_true=y_test, y_pred=y_pred)\n",
        "\n",
        "print(\"Accuracy: {:.2f}%\".format(accuracy*100))"
      ],
      "execution_count": 7,
      "outputs": [
        {
          "output_type": "stream",
          "name": "stdout",
          "text": [
            "[*] Training the model...\n"
          ]
        },
        {
          "output_type": "stream",
          "name": "stderr",
          "text": [
            "/usr/local/lib/python3.7/dist-packages/sklearn/neural_network/_multilayer_perceptron.py:612: UserWarning: Got `batch_size` less than 1 or larger than sample size. It is going to be clipped\n",
            "  \"Got `batch_size` less than 1 or larger than \"\n"
          ]
        },
        {
          "output_type": "stream",
          "name": "stdout",
          "text": [
            "Accuracy: 63.16%\n"
          ]
        }
      ]
    },
    {
      "cell_type": "code",
      "metadata": {
        "id": "xtOIZETWwmdG",
        "outputId": "4f189c46-f903-432d-91f5-ca5ea59447b1",
        "colab": {
          "base_uri": "https://localhost:8080/"
        }
      },
      "source": [
        "from sklearn.metrics import classification_report \n",
        "from sklearn.metrics import confusion_matrix \n",
        "print(classification_report(y_test,y_pred))\n",
        "print(confusion_matrix(y_test,y_pred))"
      ],
      "execution_count": 8,
      "outputs": [
        {
          "output_type": "stream",
          "name": "stdout",
          "text": [
            "              precision    recall  f1-score   support\n",
            "\n",
            "       angry       0.60      0.60      0.60         5\n",
            "       happy       0.50      0.80      0.62         5\n",
            "     neutral       1.00      0.67      0.80         3\n",
            "         sad       0.75      0.50      0.60         6\n",
            "\n",
            "    accuracy                           0.63        19\n",
            "   macro avg       0.71      0.64      0.65        19\n",
            "weighted avg       0.68      0.63      0.64        19\n",
            "\n",
            "[[3 2 0 0]\n",
            " [1 4 0 0]\n",
            " [0 0 2 1]\n",
            " [1 2 0 3]]\n"
          ]
        }
      ]
    },
    {
      "cell_type": "markdown",
      "metadata": {
        "id": "nCR_7QpHsHkF"
      },
      "source": [
        "**Second**"
      ]
    },
    {
      "cell_type": "code",
      "metadata": {
        "id": "nVJBOLmQr_RB",
        "outputId": "24b8631b-77ab-4783-901b-f9af31059459",
        "colab": {
          "base_uri": "https://localhost:8080/"
        }
      },
      "source": [
        "m_params = {\n",
        "    'alpha': 0.01,\n",
        "    'batch_size': 200,\n",
        "    'epsilon': 1e-08, \n",
        "    'hidden_layer_sizes': (300,), \n",
        "    'learning_rate': 'adaptive', \n",
        "    'max_iter': 500, \n",
        "}\n",
        "# initialize Multi Layer Perceptron classifier\n",
        "# with best parameters ( so far )\n",
        "m1 = MLPClassifier(**m_params)\n",
        "\n",
        "# train the model\n",
        "print(\"[*] Training the model...\")\n",
        "m1.fit(X_train, y_train)\n",
        "\n",
        "# predict 25% of data to measure how good we are\n",
        "y_p = m1.predict(X_test)\n",
        "\n",
        "# calculate the accuracy\n",
        "accuracy = accuracy_score(y_true=y_test, y_pred=y_p)\n",
        "\n",
        "print(\"Accuracy: {:.2f}%\".format(accuracy*100))\n",
        "\n",
        "# now we save the model\n",
        "# make result directory if doesn't exist yet"
      ],
      "execution_count": 9,
      "outputs": [
        {
          "output_type": "stream",
          "name": "stdout",
          "text": [
            "[*] Training the model...\n"
          ]
        },
        {
          "output_type": "stream",
          "name": "stderr",
          "text": [
            "/usr/local/lib/python3.7/dist-packages/sklearn/neural_network/_multilayer_perceptron.py:612: UserWarning: Got `batch_size` less than 1 or larger than sample size. It is going to be clipped\n",
            "  \"Got `batch_size` less than 1 or larger than \"\n"
          ]
        },
        {
          "output_type": "stream",
          "name": "stdout",
          "text": [
            "Accuracy: 78.95%\n"
          ]
        }
      ]
    },
    {
      "cell_type": "code",
      "metadata": {
        "id": "Mb3Dyz8Sy1eH",
        "outputId": "33c439c4-905b-4698-9f26-724679e23d18",
        "colab": {
          "base_uri": "https://localhost:8080/"
        }
      },
      "source": [
        "from sklearn.metrics import classification_report \n",
        "from sklearn.metrics import confusion_matrix \n",
        "print(classification_report(y_test,y_p))\n",
        "print(confusion_matrix(y_test,y_p))"
      ],
      "execution_count": 10,
      "outputs": [
        {
          "output_type": "stream",
          "name": "stdout",
          "text": [
            "              precision    recall  f1-score   support\n",
            "\n",
            "       angry       1.00      0.80      0.89         5\n",
            "       happy       0.62      1.00      0.77         5\n",
            "     neutral       1.00      0.67      0.80         3\n",
            "         sad       0.80      0.67      0.73         6\n",
            "\n",
            "    accuracy                           0.79        19\n",
            "   macro avg       0.86      0.78      0.80        19\n",
            "weighted avg       0.84      0.79      0.79        19\n",
            "\n",
            "[[4 1 0 0]\n",
            " [0 5 0 0]\n",
            " [0 0 2 1]\n",
            " [0 2 0 4]]\n"
          ]
        }
      ]
    },
    {
      "cell_type": "markdown",
      "metadata": {
        "id": "bmnrmte120LG"
      },
      "source": [
        "**Third**"
      ]
    },
    {
      "cell_type": "code",
      "metadata": {
        "id": "QEz514j12ybq",
        "outputId": "b84a8e77-6781-457b-dfd2-5badbf3afd73",
        "colab": {
          "base_uri": "https://localhost:8080/"
        }
      },
      "source": [
        "mn_params = {\n",
        "    'alpha': 0.01,\n",
        "    'batch_size': 256,\n",
        "    'epsilon': 1e-08, \n",
        "    'hidden_layer_sizes': (300,2), \n",
        "    'learning_rate': 'adaptive', \n",
        "    'max_iter': 500, \n",
        "}\n",
        "# initialize Multi Layer Perceptron classifier\n",
        "# with best parameters ( so far )\n",
        "m2 = MLPClassifier(**mn_params)\n",
        "\n",
        "# train the model\n",
        "print(\"[*] Training the model...\")\n",
        "m2.fit(X_train, y_train)\n",
        "\n",
        "# predict 25% of data to measure how good we are\n",
        "y_p2 = m2.predict(X_test)\n",
        "\n",
        "# calculate the accuracy\n",
        "accuracy = accuracy_score(y_true=y_test, y_pred=y_p2)\n",
        "\n",
        "print(\"Accuracy: {:.2f}%\".format(accuracy*100))"
      ],
      "execution_count": 11,
      "outputs": [
        {
          "output_type": "stream",
          "name": "stdout",
          "text": [
            "[*] Training the model...\n"
          ]
        },
        {
          "output_type": "stream",
          "name": "stderr",
          "text": [
            "/usr/local/lib/python3.7/dist-packages/sklearn/neural_network/_multilayer_perceptron.py:612: UserWarning: Got `batch_size` less than 1 or larger than sample size. It is going to be clipped\n",
            "  \"Got `batch_size` less than 1 or larger than \"\n"
          ]
        },
        {
          "output_type": "stream",
          "name": "stdout",
          "text": [
            "Accuracy: 26.32%\n"
          ]
        }
      ]
    },
    {
      "cell_type": "code",
      "metadata": {
        "id": "9-OTZzDt29Qm",
        "outputId": "14b70042-b888-4374-dd1b-f9dfe88c4527",
        "colab": {
          "base_uri": "https://localhost:8080/"
        }
      },
      "source": [
        "from sklearn.metrics import classification_report \n",
        "from sklearn.metrics import confusion_matrix \n",
        "print(classification_report(y_test,y_p2))\n",
        "print(confusion_matrix(y_test,y_p2))"
      ],
      "execution_count": 12,
      "outputs": [
        {
          "output_type": "stream",
          "name": "stdout",
          "text": [
            "              precision    recall  f1-score   support\n",
            "\n",
            "       angry       0.00      0.00      0.00         5\n",
            "       happy       0.26      1.00      0.42         5\n",
            "     neutral       0.00      0.00      0.00         3\n",
            "         sad       0.00      0.00      0.00         6\n",
            "\n",
            "    accuracy                           0.26        19\n",
            "   macro avg       0.07      0.25      0.10        19\n",
            "weighted avg       0.07      0.26      0.11        19\n",
            "\n",
            "[[0 5 0 0]\n",
            " [0 5 0 0]\n",
            " [0 3 0 0]\n",
            " [0 6 0 0]]\n"
          ]
        },
        {
          "output_type": "stream",
          "name": "stderr",
          "text": [
            "/usr/local/lib/python3.7/dist-packages/sklearn/metrics/_classification.py:1308: UndefinedMetricWarning: Precision and F-score are ill-defined and being set to 0.0 in labels with no predicted samples. Use `zero_division` parameter to control this behavior.\n",
            "  _warn_prf(average, modifier, msg_start, len(result))\n",
            "/usr/local/lib/python3.7/dist-packages/sklearn/metrics/_classification.py:1308: UndefinedMetricWarning: Precision and F-score are ill-defined and being set to 0.0 in labels with no predicted samples. Use `zero_division` parameter to control this behavior.\n",
            "  _warn_prf(average, modifier, msg_start, len(result))\n",
            "/usr/local/lib/python3.7/dist-packages/sklearn/metrics/_classification.py:1308: UndefinedMetricWarning: Precision and F-score are ill-defined and being set to 0.0 in labels with no predicted samples. Use `zero_division` parameter to control this behavior.\n",
            "  _warn_prf(average, modifier, msg_start, len(result))\n"
          ]
        }
      ]
    },
    {
      "cell_type": "code",
      "metadata": {
        "id": "XcJQp0kDV3yG"
      },
      "source": [
        "import os\n",
        "import wave\n",
        "import pickle\n",
        "from sys import byteorder\n",
        "from array import array\n",
        "from struct import pack\n",
        "from sklearn.neural_network import MLPClassifier\n",
        "import librosa\n"
      ],
      "execution_count": 13,
      "outputs": []
    },
    {
      "cell_type": "code",
      "metadata": {
        "id": "5I6CDcGoCzG6",
        "colab": {
          "base_uri": "https://localhost:8080/"
        },
        "outputId": "217355ed-4883-42c8-9aa3-1be6aad06f4b"
      },
      "source": [
        "#print(\"Please talk\")\n",
        "#filename = \"D:\\project_emotion/test2.wav\"# record the file (start t\n",
        "filename = '/content/drive/My Drive/path.wav'\n",
        "    #record_to_file(filename)\n",
        "    # extract features and reshape it\n",
        "features = extract_feature(filename, mfcc=True, chroma=True, mel=True).reshape(1, -1)\n",
        "    # predict\n",
        "result = model.predict(features)[0]\n",
        "    # show the result !\n",
        "print(\"result:\", result)"
      ],
      "execution_count": 14,
      "outputs": [
        {
          "output_type": "stream",
          "name": "stdout",
          "text": [
            "result: angry\n"
          ]
        }
      ]
    },
    {
      "cell_type": "code",
      "source": [
        ""
      ],
      "metadata": {
        "id": "7RIExay2ey8c"
      },
      "execution_count": null,
      "outputs": []
    }
  ]
}